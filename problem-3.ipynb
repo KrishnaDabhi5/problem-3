{
 "cells": [
  {
   "cell_type": "code",
   "execution_count": 1,
   "id": "407fc5de",
   "metadata": {},
   "outputs": [],
   "source": [
    "#User will input (2numbers).Write a program to swap the numbers"
   ]
  },
  {
   "cell_type": "code",
   "execution_count": 3,
   "id": "b4b3a543",
   "metadata": {},
   "outputs": [
    {
     "name": "stdout",
     "output_type": "stream",
     "text": [
      "enter the num1: 5\n",
      "enter the num2: 7\n",
      "swapped num1 is:  7\n",
      "swapped num2 is:  5\n"
     ]
    }
   ],
   "source": [
    "a = int(input(\"enter the num1: \"))\n",
    "b = int(input(\"enter the num2: \"))\n",
    "temp = a\n",
    "a = b\n",
    "b = temp\n",
    "print(\"swapped num1 is: \",a)\n",
    "print(\"swapped num2 is: \",b)"
   ]
  },
  {
   "cell_type": "code",
   "execution_count": null,
   "id": "5938a766",
   "metadata": {},
   "outputs": [],
   "source": []
  }
 ],
 "metadata": {
  "kernelspec": {
   "display_name": "Python 3 (ipykernel)",
   "language": "python",
   "name": "python3"
  },
  "language_info": {
   "codemirror_mode": {
    "name": "ipython",
    "version": 3
   },
   "file_extension": ".py",
   "mimetype": "text/x-python",
   "name": "python",
   "nbconvert_exporter": "python",
   "pygments_lexer": "ipython3",
   "version": "3.10.8"
  }
 },
 "nbformat": 4,
 "nbformat_minor": 5
}
